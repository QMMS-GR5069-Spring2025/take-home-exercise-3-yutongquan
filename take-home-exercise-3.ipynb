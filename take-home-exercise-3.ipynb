{
 "cells": [
  {
   "cell_type": "code",
   "execution_count": 0,
   "metadata": {
    "application/vnd.databricks.v1+cell": {
     "cellMetadata": {
      "byteLimit": 2048000,
      "rowLimit": 10000
     },
     "inputWidgets": {},
     "nuid": "051a2b24-04ac-4041-a935-866a8907c381",
     "showTitle": false,
     "tableResultSettingsMap": {},
     "title": ""
    }
   },
   "outputs": [
    {
     "output_type": "stream",
     "name": "stdout",
     "output_type": "stream",
     "text": [
      "Collecting mlflow\n  Obtaining dependency information for mlflow from https://files.pythonhosted.org/packages/72/f1/be329ef23da1933135afc5e493cbe1b7ecf5302890f2a7ac2124b64c01bd/mlflow-2.21.3-py3-none-any.whl.metadata\n  Using cached mlflow-2.21.3-py3-none-any.whl.metadata (30 kB)\nCollecting mlflow-skinny==2.21.3 (from mlflow)\n  Obtaining dependency information for mlflow-skinny==2.21.3 from https://files.pythonhosted.org/packages/2d/f8/b71f88ca373f248fd7fdf3751f74c7b36a71b7ee2b5f4b803ee053ac963a/mlflow_skinny-2.21.3-py3-none-any.whl.metadata\n  Using cached mlflow_skinny-2.21.3-py3-none-any.whl.metadata (31 kB)\nCollecting Flask<4 (from mlflow)\n  Obtaining dependency information for Flask<4 from https://files.pythonhosted.org/packages/af/47/93213ee66ef8fae3b93b3e29206f6b251e65c97bd91d8e1c5596ef15af0a/flask-3.1.0-py3-none-any.whl.metadata\n  Using cached flask-3.1.0-py3-none-any.whl.metadata (2.7 kB)\nCollecting Jinja2<4,>=2.11 (from mlflow)\n  Obtaining dependency information for Jinja2<4,>=2.11 from https://files.pythonhosted.org/packages/62/a1/3d680cbfd5f4b8f15abc1d571870c5fc3e594bb582bc3b64ea099db13e56/jinja2-3.1.6-py3-none-any.whl.metadata\n  Using cached jinja2-3.1.6-py3-none-any.whl.metadata (2.9 kB)\nCollecting alembic!=1.10.0,<2 (from mlflow)\n  Obtaining dependency information for alembic!=1.10.0,<2 from https://files.pythonhosted.org/packages/41/18/d89a443ed1ab9bcda16264716f809c663866d4ca8de218aa78fd50b38ead/alembic-1.15.2-py3-none-any.whl.metadata\n  Using cached alembic-1.15.2-py3-none-any.whl.metadata (7.3 kB)\nCollecting docker<8,>=4.0.0 (from mlflow)\n  Obtaining dependency information for docker<8,>=4.0.0 from https://files.pythonhosted.org/packages/e3/26/57c6fb270950d476074c087527a558ccb6f4436657314bfb6cdf484114c4/docker-7.1.0-py3-none-any.whl.metadata\n  Using cached docker-7.1.0-py3-none-any.whl.metadata (3.8 kB)\nCollecting graphene<4 (from mlflow)\n  Obtaining dependency information for graphene<4 from https://files.pythonhosted.org/packages/66/e0/61d8e98007182e6b2aca7cf65904721fb2e4bce0192272ab9cb6f69d8812/graphene-3.4.3-py2.py3-none-any.whl.metadata\n  Using cached graphene-3.4.3-py2.py3-none-any.whl.metadata (6.9 kB)\nCollecting gunicorn<24 (from mlflow)\n  Obtaining dependency information for gunicorn<24 from https://files.pythonhosted.org/packages/cb/7d/6dac2a6e1eba33ee43f318edbed4ff29151a49b5d37f080aad1e6469bca4/gunicorn-23.0.0-py3-none-any.whl.metadata\n  Using cached gunicorn-23.0.0-py3-none-any.whl.metadata (4.4 kB)\nCollecting markdown<4,>=3.3 (from mlflow)\n  Obtaining dependency information for markdown<4,>=3.3 from https://files.pythonhosted.org/packages/3f/08/83871f3c50fc983b88547c196d11cf8c3340e37c32d2e9d6152abe2c61f7/Markdown-3.7-py3-none-any.whl.metadata\n  Using cached Markdown-3.7-py3-none-any.whl.metadata (7.0 kB)\nRequirement already satisfied: matplotlib<4 in /databricks/python3/lib/python3.11/site-packages (from mlflow) (3.7.2)\nRequirement already satisfied: numpy<3 in /databricks/python3/lib/python3.11/site-packages (from mlflow) (1.23.5)\nRequirement already satisfied: pandas<3 in /databricks/python3/lib/python3.11/site-packages (from mlflow) (1.5.3)\nRequirement already satisfied: pyarrow<20,>=4.0.0 in /databricks/python3/lib/python3.11/site-packages (from mlflow) (14.0.1)\nRequirement already satisfied: scikit-learn<2 in /databricks/python3/lib/python3.11/site-packages (from mlflow) (1.3.0)\nRequirement already satisfied: scipy<2 in /databricks/python3/lib/python3.11/site-packages (from mlflow) (1.11.1)\nCollecting sqlalchemy<3,>=1.4.0 (from mlflow)\n  Obtaining dependency information for sqlalchemy<3,>=1.4.0 from https://files.pythonhosted.org/packages/12/cf/b891a8c1d0c27ce9163361664c2128c7a57de3f35000ea5202eb3a2917b7/sqlalchemy-2.0.40-cp311-cp311-manylinux_2_17_x86_64.manylinux2014_x86_64.whl.metadata\n  Using cached sqlalchemy-2.0.40-cp311-cp311-manylinux_2_17_x86_64.manylinux2014_x86_64.whl.metadata (9.6 kB)\nRequirement already satisfied: cachetools<6,>=5.0.0 in /databricks/python3/lib/python3.11/site-packages (from mlflow-skinny==2.21.3->mlflow) (5.3.3)\nRequirement already satisfied: click<9,>=7.0 in /databricks/python3/lib/python3.11/site-packages (from mlflow-skinny==2.21.3->mlflow) (8.0.4)\nRequirement already satisfied: cloudpickle<4 in /databricks/python3/lib/python3.11/site-packages (from mlflow-skinny==2.21.3->mlflow) (2.2.1)\nRequirement already satisfied: databricks-sdk<1,>=0.20.0 in /databricks/python3/lib/python3.11/site-packages (from mlflow-skinny==2.21.3->mlflow) (0.20.0)\nCollecting fastapi<1 (from mlflow-skinny==2.21.3->mlflow)\n  Obtaining dependency information for fastapi<1 from https://files.pythonhosted.org/packages/50/b3/b51f09c2ba432a576fe63758bddc81f78f0c6309d9e5c10d194313bf021e/fastapi-0.115.12-py3-none-any.whl.metadata\n  Using cached fastapi-0.115.12-py3-none-any.whl.metadata (27 kB)\nRequirement already satisfied: gitpython<4,>=3.1.9 in /databricks/python3/lib/python3.11/site-packages (from mlflow-skinny==2.21.3->mlflow) (3.1.43)\nRequirement already satisfied: importlib_metadata!=4.7.0,<9,>=3.7.0 in /databricks/python3/lib/python3.11/site-packages (from mlflow-skinny==2.21.3->mlflow) (6.0.0)\nCollecting opentelemetry-api<3,>=1.9.0 (from mlflow-skinny==2.21.3->mlflow)\n  Obtaining dependency information for opentelemetry-api<3,>=1.9.0 from https://files.pythonhosted.org/packages/6c/c8/86557ff0da32f3817bc4face57ea35cfdc2f9d3bcefd42311ef860dcefb7/opentelemetry_api-1.31.1-py3-none-any.whl.metadata\n  Using cached opentelemetry_api-1.31.1-py3-none-any.whl.metadata (1.6 kB)\nCollecting opentelemetry-sdk<3,>=1.9.0 (from mlflow-skinny==2.21.3->mlflow)\n  Obtaining dependency information for opentelemetry-sdk<3,>=1.9.0 from https://files.pythonhosted.org/packages/bc/36/758e5d3746bc86a2af20aa5e2236a7c5aa4264b501dc0e9f40efd9078ef0/opentelemetry_sdk-1.31.1-py3-none-any.whl.metadata\n  Using cached opentelemetry_sdk-1.31.1-py3-none-any.whl.metadata (1.6 kB)\nRequirement already satisfied: packaging<25 in /databricks/python3/lib/python3.11/site-packages (from mlflow-skinny==2.21.3->mlflow) (23.2)\nRequirement already satisfied: protobuf<6,>=3.12.0 in /databricks/python3/lib/python3.11/site-packages (from mlflow-skinny==2.21.3->mlflow) (4.24.1)\nCollecting pydantic<3,>=1.10.8 (from mlflow-skinny==2.21.3->mlflow)\n  Obtaining dependency information for pydantic<3,>=1.10.8 from https://files.pythonhosted.org/packages/b0/1d/407b29780a289868ed696d1616f4aad49d6388e5a77f567dcd2629dcd7b8/pydantic-2.11.3-py3-none-any.whl.metadata\n  Using cached pydantic-2.11.3-py3-none-any.whl.metadata (65 kB)\nRequirement already satisfied: pyyaml<7,>=5.1 in /databricks/python3/lib/python3.11/site-packages (from mlflow-skinny==2.21.3->mlflow) (6.0)\nRequirement already satisfied: requests<3,>=2.17.3 in /databricks/python3/lib/python3.11/site-packages (from mlflow-skinny==2.21.3->mlflow) (2.31.0)\nRequirement already satisfied: sqlparse<1,>=0.4.0 in /databricks/python3/lib/python3.11/site-packages (from mlflow-skinny==2.21.3->mlflow) (0.5.0)\nRequirement already satisfied: typing-extensions<5,>=4.0.0 in /databricks/python3/lib/python3.11/site-packages (from mlflow-skinny==2.21.3->mlflow) (4.10.0)\nCollecting uvicorn<1 (from mlflow-skinny==2.21.3->mlflow)\n  Obtaining dependency information for uvicorn<1 from https://files.pythonhosted.org/packages/61/14/33a3a1352cfa71812a3a21e8c9bfb83f60b0011f5e36f2b1399d51928209/uvicorn-0.34.0-py3-none-any.whl.metadata\n  Using cached uvicorn-0.34.0-py3-none-any.whl.metadata (6.5 kB)\nCollecting Mako (from alembic!=1.10.0,<2->mlflow)\n  Obtaining dependency information for Mako from https://files.pythonhosted.org/packages/cd/83/de0a49e7de540513f53ab5d2e105321dedeb08a8f5850f0208decf4390ec/Mako-1.3.9-py3-none-any.whl.metadata\n  Using cached Mako-1.3.9-py3-none-any.whl.metadata (2.9 kB)\nCollecting typing-extensions<5,>=4.0.0 (from mlflow-skinny==2.21.3->mlflow)\n  Obtaining dependency information for typing-extensions<5,>=4.0.0 from https://files.pythonhosted.org/packages/df/c5/e7a0b0f5ed69f94c8ab7379c599e6036886bffcde609969a5325f47f1332/typing_extensions-4.13.1-py3-none-any.whl.metadata\n  Using cached typing_extensions-4.13.1-py3-none-any.whl.metadata (3.0 kB)\nRequirement already satisfied: urllib3>=1.26.0 in /databricks/python3/lib/python3.11/site-packages (from docker<8,>=4.0.0->mlflow) (1.26.16)\nCollecting Werkzeug>=3.1 (from Flask<4->mlflow)\n  Obtaining dependency information for Werkzeug>=3.1 from https://files.pythonhosted.org/packages/52/24/ab44c871b0f07f491e5d2ad12c9bd7358e527510618cb1b803a88e986db1/werkzeug-3.1.3-py3-none-any.whl.metadata\n  Using cached werkzeug-3.1.3-py3-none-any.whl.metadata (3.7 kB)\nCollecting itsdangerous>=2.2 (from Flask<4->mlflow)\n  Obtaining dependency information for itsdangerous>=2.2 from https://files.pythonhosted.org/packages/04/96/92447566d16df59b2a776c0fb82dbc4d9e07cd95062562af01e408583fc4/itsdangerous-2.2.0-py3-none-any.whl.metadata\n  Using cached itsdangerous-2.2.0-py3-none-any.whl.metadata (1.9 kB)\nCollecting click<9,>=7.0 (from mlflow-skinny==2.21.3->mlflow)\n  Obtaining dependency information for click<9,>=7.0 from https://files.pythonhosted.org/packages/7e/d4/7ebdbd03970677812aac39c869717059dbb71a4cfc033ca6e5221787892c/click-8.1.8-py3-none-any.whl.metadata\n  Using cached click-8.1.8-py3-none-any.whl.metadata (2.3 kB)\nCollecting blinker>=1.9 (from Flask<4->mlflow)\n  Obtaining dependency information for blinker>=1.9 from https://files.pythonhosted.org/packages/10/cb/f2ad4230dc2eb1a74edf38f1a38b9b52277f75bef262d8908e60d957e13c/blinker-1.9.0-py3-none-any.whl.metadata\n  Using cached blinker-1.9.0-py3-none-any.whl.metadata (1.6 kB)\nCollecting graphql-core<3.3,>=3.1 (from graphene<4->mlflow)\n  Obtaining dependency information for graphql-core<3.3,>=3.1 from https://files.pythonhosted.org/packages/ae/4f/7297663840621022bc73c22d7d9d80dbc78b4db6297f764b545cd5dd462d/graphql_core-3.2.6-py3-none-any.whl.metadata\n  Using cached graphql_core-3.2.6-py3-none-any.whl.metadata (11 kB)\nCollecting graphql-relay<3.3,>=3.1 (from graphene<4->mlflow)\n  Obtaining dependency information for graphql-relay<3.3,>=3.1 from https://files.pythonhosted.org/packages/74/16/a4cf06adbc711bd364a73ce043b0b08d8fa5aae3df11b6ee4248bcdad2e0/graphql_relay-3.2.0-py3-none-any.whl.metadata\n  Using cached graphql_relay-3.2.0-py3-none-any.whl.metadata (12 kB)\nRequirement already satisfied: python-dateutil<3,>=2.7.0 in /databricks/python3/lib/python3.11/site-packages (from graphene<4->mlflow) (2.8.2)\nCollecting MarkupSafe>=2.0 (from Jinja2<4,>=2.11->mlflow)\n  Obtaining dependency information for MarkupSafe>=2.0 from https://files.pythonhosted.org/packages/f1/a4/aefb044a2cd8d7334c8a47d3fb2c9f328ac48cb349468cc31c20b539305f/MarkupSafe-3.0.2-cp311-cp311-manylinux_2_17_x86_64.manylinux2014_x86_64.whl.metadata\n  Using cached MarkupSafe-3.0.2-cp311-cp311-manylinux_2_17_x86_64.manylinux2014_x86_64.whl.metadata (4.0 kB)\nRequirement already satisfied: contourpy>=1.0.1 in /databricks/python3/lib/python3.11/site-packages (from matplotlib<4->mlflow) (1.0.5)\nRequirement already satisfied: cycler>=0.10 in /databricks/python3/lib/python3.11/site-packages (from matplotlib<4->mlflow) (0.11.0)\nRequirement already satisfied: fonttools>=4.22.0 in /databricks/python3/lib/python3.11/site-packages (from matplotlib<4->mlflow) (4.25.0)\nRequirement already satisfied: kiwisolver>=1.0.1 in /databricks/python3/lib/python3.11/site-packages (from matplotlib<4->mlflow) (1.4.4)\nRequirement already satisfied: pillow>=6.2.0 in /databricks/python3/lib/python3.11/site-packages (from matplotlib<4->mlflow) (9.4.0)\nRequirement already satisfied: pyparsing<3.1,>=2.3.1 in /databricks/python3/lib/python3.11/site-packages (from matplotlib<4->mlflow) (3.0.9)\nRequirement already satisfied: pytz>=2020.1 in /databricks/python3/lib/python3.11/site-packages (from pandas<3->mlflow) (2022.7)\nRequirement already satisfied: joblib>=1.1.1 in /databricks/python3/lib/python3.11/site-packages (from scikit-learn<2->mlflow) (1.2.0)\nRequirement already satisfied: threadpoolctl>=2.0.0 in /databricks/python3/lib/python3.11/site-packages (from scikit-learn<2->mlflow) (2.2.0)\nCollecting greenlet>=1 (from sqlalchemy<3,>=1.4.0->mlflow)\n  Obtaining dependency information for greenlet>=1 from https://files.pythonhosted.org/packages/f7/4b/1c9695aa24f808e156c8f4813f685d975ca73c000c2a5056c514c64980f6/greenlet-3.1.1-cp311-cp311-manylinux_2_24_x86_64.manylinux_2_28_x86_64.whl.metadata\n  Using cached greenlet-3.1.1-cp311-cp311-manylinux_2_24_x86_64.manylinux_2_28_x86_64.whl.metadata (3.8 kB)\nRequirement already satisfied: google-auth~=2.0 in /databricks/python3/lib/python3.11/site-packages (from databricks-sdk<1,>=0.20.0->mlflow-skinny==2.21.3->mlflow) (2.31.0)\nCollecting starlette<0.47.0,>=0.40.0 (from fastapi<1->mlflow-skinny==2.21.3->mlflow)\n  Obtaining dependency information for starlette<0.47.0,>=0.40.0 from https://files.pythonhosted.org/packages/a0/4b/528ccf7a982216885a1ff4908e886b8fb5f19862d1962f56a3fce2435a70/starlette-0.46.1-py3-none-any.whl.metadata\n  Using cached starlette-0.46.1-py3-none-any.whl.metadata (6.2 kB)\nRequirement already satisfied: gitdb<5,>=4.0.1 in /databricks/python3/lib/python3.11/site-packages (from gitpython<4,>=3.1.9->mlflow-skinny==2.21.3->mlflow) (4.0.11)\nRequirement already satisfied: zipp>=0.5 in /databricks/python3/lib/python3.11/site-packages (from importlib_metadata!=4.7.0,<9,>=3.7.0->mlflow-skinny==2.21.3->mlflow) (3.11.0)\nCollecting deprecated>=1.2.6 (from opentelemetry-api<3,>=1.9.0->mlflow-skinny==2.21.3->mlflow)\n  Obtaining dependency information for deprecated>=1.2.6 from https://files.pythonhosted.org/packages/6e/c6/ac0b6c1e2d138f1002bcf799d330bd6d85084fece321e662a14223794041/Deprecated-1.2.18-py2.py3-none-any.whl.metadata\n  Using cached Deprecated-1.2.18-py2.py3-none-any.whl.metadata (5.7 kB)\nCollecting opentelemetry-semantic-conventions==0.52b1 (from opentelemetry-sdk<3,>=1.9.0->mlflow-skinny==2.21.3->mlflow)\n  Obtaining dependency information for opentelemetry-semantic-conventions==0.52b1 from https://files.pythonhosted.org/packages/98/be/d4ba300cfc1d4980886efbc9b48ee75242b9fcf940d9c4ccdc9ef413a7cf/opentelemetry_semantic_conventions-0.52b1-py3-none-any.whl.metadata\n  Using cached opentelemetry_semantic_conventions-0.52b1-py3-none-any.whl.metadata (2.5 kB)\nCollecting annotated-types>=0.6.0 (from pydantic<3,>=1.10.8->mlflow-skinny==2.21.3->mlflow)\n  Obtaining dependency information for annotated-types>=0.6.0 from https://files.pythonhosted.org/packages/78/b6/6307fbef88d9b5ee7421e68d78a9f162e0da4900bc5f5793f6d3d0e34fb8/annotated_types-0.7.0-py3-none-any.whl.metadata\n  Using cached annotated_types-0.7.0-py3-none-any.whl.metadata (15 kB)\nCollecting pydantic-core==2.33.1 (from pydantic<3,>=1.10.8->mlflow-skinny==2.21.3->mlflow)\n  Obtaining dependency information for pydantic-core==2.33.1 from https://files.pythonhosted.org/packages/0b/60/516484135173aa9e5861d7a0663dce82e4746d2e7f803627d8c25dfa5578/pydantic_core-2.33.1-cp311-cp311-manylinux_2_17_x86_64.manylinux2014_x86_64.whl.metadata\n  Using cached pydantic_core-2.33.1-cp311-cp311-manylinux_2_17_x86_64.manylinux2014_x86_64.whl.metadata (6.8 kB)\nCollecting typing-inspection>=0.4.0 (from pydantic<3,>=1.10.8->mlflow-skinny==2.21.3->mlflow)\n  Obtaining dependency information for typing-inspection>=0.4.0 from https://files.pythonhosted.org/packages/31/08/aa4fdfb71f7de5176385bd9e90852eaf6b5d622735020ad600f2bab54385/typing_inspection-0.4.0-py3-none-any.whl.metadata\n  Using cached typing_inspection-0.4.0-py3-none-any.whl.metadata (2.6 kB)\nRequirement already satisfied: six>=1.5 in /usr/lib/python3/dist-packages (from python-dateutil<3,>=2.7.0->graphene<4->mlflow) (1.16.0)\nRequirement already satisfied: charset-normalizer<4,>=2 in /databricks/python3/lib/python3.11/site-packages (from requests<3,>=2.17.3->mlflow-skinny==2.21.3->mlflow) (2.0.4)\nRequirement already satisfied: idna<4,>=2.5 in /databricks/python3/lib/python3.11/site-packages (from requests<3,>=2.17.3->mlflow-skinny==2.21.3->mlflow) (3.4)\nRequirement already satisfied: certifi>=2017.4.17 in /databricks/python3/lib/python3.11/site-packages (from requests<3,>=2.17.3->mlflow-skinny==2.21.3->mlflow) (2023.7.22)\nCollecting h11>=0.8 (from uvicorn<1->mlflow-skinny==2.21.3->mlflow)\n  Obtaining dependency information for h11>=0.8 from https://files.pythonhosted.org/packages/95/04/ff642e65ad6b90db43e668d70ffb6736436c7ce41fcc549f4e9472234127/h11-0.14.0-py3-none-any.whl.metadata\n  Using cached h11-0.14.0-py3-none-any.whl.metadata (8.2 kB)\nCollecting wrapt<2,>=1.10 (from deprecated>=1.2.6->opentelemetry-api<3,>=1.9.0->mlflow-skinny==2.21.3->mlflow)\n  Obtaining dependency information for wrapt<2,>=1.10 from https://files.pythonhosted.org/packages/b4/b0/9fc566b0fe08b282c850063591a756057c3247b2362b9286429ec5bf1721/wrapt-1.17.2-cp311-cp311-manylinux_2_5_x86_64.manylinux1_x86_64.manylinux_2_17_x86_64.manylinux2014_x86_64.whl.metadata\n  Using cached wrapt-1.17.2-cp311-cp311-manylinux_2_5_x86_64.manylinux1_x86_64.manylinux_2_17_x86_64.manylinux2014_x86_64.whl.metadata (6.4 kB)\nRequirement already satisfied: smmap<6,>=3.0.1 in /databricks/python3/lib/python3.11/site-packages (from gitdb<5,>=4.0.1->gitpython<4,>=3.1.9->mlflow-skinny==2.21.3->mlflow) (5.0.1)\nRequirement already satisfied: pyasn1-modules>=0.2.1 in /databricks/python3/lib/python3.11/site-packages (from google-auth~=2.0->databricks-sdk<1,>=0.20.0->mlflow-skinny==2.21.3->mlflow) (0.2.8)\nRequirement already satisfied: rsa<5,>=3.1.4 in /databricks/python3/lib/python3.11/site-packages (from google-auth~=2.0->databricks-sdk<1,>=0.20.0->mlflow-skinny==2.21.3->mlflow) (4.9)\nCollecting anyio<5,>=3.6.2 (from starlette<0.47.0,>=0.40.0->fastapi<1->mlflow-skinny==2.21.3->mlflow)\n  Obtaining dependency information for anyio<5,>=3.6.2 from https://files.pythonhosted.org/packages/a1/ee/48ca1a7c89ffec8b6a0c5d02b89c305671d5ffd8d3c94acf8b8c408575bb/anyio-4.9.0-py3-none-any.whl.metadata\n  Using cached anyio-4.9.0-py3-none-any.whl.metadata (4.7 kB)\nCollecting sniffio>=1.1 (from anyio<5,>=3.6.2->starlette<0.47.0,>=0.40.0->fastapi<1->mlflow-skinny==2.21.3->mlflow)\n  Obtaining dependency information for sniffio>=1.1 from https://files.pythonhosted.org/packages/e9/44/75a9c9421471a6c4805dbf2356f7c181a29c1879239abab1ea2cc8f38b40/sniffio-1.3.1-py3-none-any.whl.metadata\n  Using cached sniffio-1.3.1-py3-none-any.whl.metadata (3.9 kB)\nRequirement already satisfied: pyasn1<0.5.0,>=0.4.6 in /databricks/python3/lib/python3.11/site-packages (from pyasn1-modules>=0.2.1->google-auth~=2.0->databricks-sdk<1,>=0.20.0->mlflow-skinny==2.21.3->mlflow) (0.4.8)\nUsing cached mlflow-2.21.3-py3-none-any.whl (28.2 MB)\nUsing cached mlflow_skinny-2.21.3-py3-none-any.whl (6.1 MB)\nUsing cached alembic-1.15.2-py3-none-any.whl (231 kB)\nUsing cached docker-7.1.0-py3-none-any.whl (147 kB)\nUsing cached flask-3.1.0-py3-none-any.whl (102 kB)\nUsing cached graphene-3.4.3-py2.py3-none-any.whl (114 kB)\nUsing cached gunicorn-23.0.0-py3-none-any.whl (85 kB)\nUsing cached jinja2-3.1.6-py3-none-any.whl (134 kB)\nUsing cached Markdown-3.7-py3-none-any.whl (106 kB)\nUsing cached sqlalchemy-2.0.40-cp311-cp311-manylinux_2_17_x86_64.manylinux2014_x86_64.whl (3.2 MB)\nUsing cached blinker-1.9.0-py3-none-any.whl (8.5 kB)\nUsing cached click-8.1.8-py3-none-any.whl (98 kB)\nUsing cached fastapi-0.115.12-py3-none-any.whl (95 kB)\nUsing cached graphql_core-3.2.6-py3-none-any.whl (203 kB)\nUsing cached graphql_relay-3.2.0-py3-none-any.whl (16 kB)\nUsing cached greenlet-3.1.1-cp311-cp311-manylinux_2_24_x86_64.manylinux_2_28_x86_64.whl (602 kB)\nUsing cached itsdangerous-2.2.0-py3-none-any.whl (16 kB)\nUsing cached MarkupSafe-3.0.2-cp311-cp311-manylinux_2_17_x86_64.manylinux2014_x86_64.whl (23 kB)\nUsing cached opentelemetry_api-1.31.1-py3-none-any.whl (65 kB)\nUsing cached opentelemetry_sdk-1.31.1-py3-none-any.whl (118 kB)\nUsing cached opentelemetry_semantic_conventions-0.52b1-py3-none-any.whl (183 kB)\nUsing cached pydantic-2.11.3-py3-none-any.whl (443 kB)\nUsing cached pydantic_core-2.33.1-cp311-cp311-manylinux_2_17_x86_64.manylinux2014_x86_64.whl (2.0 MB)\nUsing cached typing_extensions-4.13.1-py3-none-any.whl (45 kB)\nUsing cached uvicorn-0.34.0-py3-none-any.whl (62 kB)\nUsing cached werkzeug-3.1.3-py3-none-any.whl (224 kB)\nUsing cached Mako-1.3.9-py3-none-any.whl (78 kB)\nUsing cached annotated_types-0.7.0-py3-none-any.whl (13 kB)\nUsing cached Deprecated-1.2.18-py2.py3-none-any.whl (10.0 kB)\nUsing cached h11-0.14.0-py3-none-any.whl (58 kB)\nUsing cached starlette-0.46.1-py3-none-any.whl (71 kB)\nUsing cached typing_inspection-0.4.0-py3-none-any.whl (14 kB)\nUsing cached anyio-4.9.0-py3-none-any.whl (100 kB)\nUsing cached wrapt-1.17.2-cp311-cp311-manylinux_2_5_x86_64.manylinux1_x86_64.manylinux_2_17_x86_64.manylinux2014_x86_64.whl (83 kB)\nUsing cached sniffio-1.3.1-py3-none-any.whl (10 kB)\nInstalling collected packages: wrapt, typing-extensions, sniffio, MarkupSafe, markdown, itsdangerous, h11, gunicorn, greenlet, graphql-core, click, blinker, annotated-types, Werkzeug, uvicorn, typing-inspection, sqlalchemy, pydantic-core, Mako, Jinja2, graphql-relay, docker, deprecated, anyio, starlette, pydantic, opentelemetry-api, graphene, Flask, alembic, opentelemetry-semantic-conventions, fastapi, opentelemetry-sdk, mlflow-skinny, mlflow\n  Attempting uninstall: typing-extensions\n    Found existing installation: typing_extensions 4.10.0\n    Not uninstalling typing-extensions at /databricks/python3/lib/python3.11/site-packages, outside environment /local_disk0/.ephemeral_nfs/envs/pythonEnv-f5de6e82-c44d-4c25-a03c-15ce0c562323\n    Can't uninstall 'typing_extensions'. No files were found to uninstall.\n  Attempting uninstall: click\n    Found existing installation: click 8.0.4\n    Not uninstalling click at /databricks/python3/lib/python3.11/site-packages, outside environment /local_disk0/.ephemeral_nfs/envs/pythonEnv-f5de6e82-c44d-4c25-a03c-15ce0c562323\n    Can't uninstall 'click'. No files were found to uninstall.\n  Attempting uninstall: blinker\n    Found existing installation: blinker 1.4\n    Not uninstalling blinker at /usr/lib/python3/dist-packages, outside environment /local_disk0/.ephemeral_nfs/envs/pythonEnv-f5de6e82-c44d-4c25-a03c-15ce0c562323\n    Can't uninstall 'blinker'. No files were found to uninstall.\n  Attempting uninstall: pydantic\n    Found existing installation: pydantic 1.10.6\n    Not uninstalling pydantic at /databricks/python3/lib/python3.11/site-packages, outside environment /local_disk0/.ephemeral_nfs/envs/pythonEnv-f5de6e82-c44d-4c25-a03c-15ce0c562323\n    Can't uninstall 'pydantic'. No files were found to uninstall.\n  Attempting uninstall: mlflow-skinny\n    Found existing installation: mlflow-skinny 2.11.4\n    Not uninstalling mlflow-skinny at /databricks/python3/lib/python3.11/site-packages, outside environment /local_disk0/.ephemeral_nfs/envs/pythonEnv-f5de6e82-c44d-4c25-a03c-15ce0c562323\n    Can't uninstall 'mlflow-skinny'. No files were found to uninstall.\nSuccessfully installed Flask-3.1.0 Jinja2-3.1.6 Mako-1.3.9 MarkupSafe-3.0.2 Werkzeug-3.1.3 alembic-1.15.2 annotated-types-0.7.0 anyio-4.9.0 blinker-1.9.0 click-8.1.8 deprecated-1.2.18 docker-7.1.0 fastapi-0.115.12 graphene-3.4.3 graphql-core-3.2.6 graphql-relay-3.2.0 greenlet-3.1.1 gunicorn-23.0.0 h11-0.14.0 itsdangerous-2.2.0 markdown-3.7 mlflow-2.21.3 mlflow-skinny-2.21.3 opentelemetry-api-1.31.1 opentelemetry-sdk-1.31.1 opentelemetry-semantic-conventions-0.52b1 pydantic-2.11.3 pydantic-core-2.33.1 sniffio-1.3.1 sqlalchemy-2.0.40 starlette-0.46.1 typing-extensions-4.13.1 typing-inspection-0.4.0 uvicorn-0.34.0 wrapt-1.17.2\n\u001B[43mNote: you may need to restart the kernel using %restart_python or dbutils.library.restartPython() to use updated packages.\u001B[0m\n"
     ]
    }
   ],
   "source": [
    "pip install mlflow"
   ]
  },
  {
   "cell_type": "code",
   "execution_count": 0,
   "metadata": {
    "application/vnd.databricks.v1+cell": {
     "cellMetadata": {
      "byteLimit": 2048000,
      "rowLimit": 10000
     },
     "inputWidgets": {},
     "nuid": "029f2645-08ab-4ea6-a12b-1db36a216a6d",
     "showTitle": false,
     "tableResultSettingsMap": {},
     "title": ""
    }
   },
   "outputs": [
    {
     "output_type": "stream",
     "name": "stderr",
     "output_type": "stream",
     "text": [
      "2025/04/09 06:02:17 INFO mlflow.tracking.fluent: Experiment with name '/Users/yq2397@columbia.edu/take-home-exercise-3-yq2397' does not exist. Creating a new experiment.\n"
     ]
    },
    {
     "output_type": "execute_result",
     "data": {
      "text/plain": [
       "<Experiment: artifact_location='dbfs:/databricks/mlflow-tracking/108253902178481', creation_time=1744178537510, experiment_id='108253902178481', last_update_time=1744178537510, lifecycle_stage='active', name='/Users/yq2397@columbia.edu/take-home-exercise-3-yq2397', tags={'mlflow.experiment.sourceName': '/Users/yq2397@columbia.edu/take-home-exercise-3-yq2397',\n",
       " 'mlflow.experimentType': 'MLFLOW_EXPERIMENT',\n",
       " 'mlflow.ownerEmail': 'yq2397@columbia.edu',\n",
       " 'mlflow.ownerId': '3797474588272739'}>"
      ]
     },
     "execution_count": 5,
     "metadata": {},
     "output_type": "execute_result"
    }
   ],
   "source": [
    "import mlflow\n",
    "\n",
    "mlflow.set_experiment(\"/Users/yq2397@columbia.edu/take-home-exercise-3-yq2397\")"
   ]
  },
  {
   "cell_type": "code",
   "execution_count": 0,
   "metadata": {
    "application/vnd.databricks.v1+cell": {
     "cellMetadata": {
      "byteLimit": 2048000,
      "rowLimit": 10000
     },
     "inputWidgets": {},
     "nuid": "5c86af4c-096e-435f-b427-f062fc26e309",
     "showTitle": false,
     "tableResultSettingsMap": {},
     "title": ""
    }
   },
   "outputs": [],
   "source": [
    "from pyspark.sql import functions as F\n",
    "from pyspark.sql.types import DoubleType\n",
    "from pyspark.ml.feature import VectorAssembler\n",
    "from pyspark.ml.regression import RandomForestRegressor, GBTRegressor\n",
    "from pyspark.ml.evaluation import RegressionEvaluator\n",
    "import matplotlib.pyplot as plt\n",
    "import pandas as pd\n",
    "import numpy as np"
   ]
  },
  {
   "cell_type": "code",
   "execution_count": 0,
   "metadata": {
    "application/vnd.databricks.v1+cell": {
     "cellMetadata": {
      "byteLimit": 2048000,
      "rowLimit": 10000
     },
     "inputWidgets": {},
     "nuid": "23b607de-dac7-4709-a350-0921225353fc",
     "showTitle": false,
     "tableResultSettingsMap": {},
     "title": ""
    }
   },
   "outputs": [],
   "source": [
    "df_results = spark.read.csv('s3://columbia-gr5069-main/raw/results.csv', header = True)\n",
    "df_drivers = spark.read.csv('s3://columbia-gr5069-main/raw/drivers.csv', header = True)\n",
    "df_races= spark.read.csv('s3://columbia-gr5069-main/raw/races.csv', header = True)"
   ]
  },
  {
   "cell_type": "code",
   "execution_count": 0,
   "metadata": {
    "application/vnd.databricks.v1+cell": {
     "cellMetadata": {
      "byteLimit": 2048000,
      "rowLimit": 10000
     },
     "inputWidgets": {},
     "nuid": "df2a6dd5-f3f7-4e26-8168-5c7b67cb269f",
     "showTitle": false,
     "tableResultSettingsMap": {},
     "title": ""
    }
   },
   "outputs": [
    {
     "output_type": "display_data",
     "data": {
      "text/html": [
       "<style scoped>\n",
       "  .table-result-container {\n",
       "    max-height: 300px;\n",
       "    overflow: auto;\n",
       "  }\n",
       "  table, th, td {\n",
       "    border: 1px solid black;\n",
       "    border-collapse: collapse;\n",
       "  }\n",
       "  th, td {\n",
       "    padding: 5px;\n",
       "  }\n",
       "  th {\n",
       "    text-align: left;\n",
       "  }\n",
       "</style><div class='table-result-container'><table class='table-result'><thead style='background-color: white'><tr><th>driverId</th><th>raceId</th><th>resultId</th><th>constructorId</th><th>number</th><th>grid</th><th>position</th><th>positionText</th><th>positionOrder</th><th>points</th><th>laps</th><th>time</th><th>milliseconds</th><th>fastestLap</th><th>rank</th><th>fastestLapTime</th><th>fastestLapSpeed</th><th>statusId</th><th>year</th><th>round</th><th>circuitId</th><th>name</th><th>date</th><th>time</th><th>url</th><th>fp1_date</th><th>fp1_time</th><th>fp2_date</th><th>fp2_time</th><th>fp3_date</th><th>fp3_time</th><th>quali_date</th><th>quali_time</th><th>sprint_date</th><th>sprint_time</th><th>driverRef</th><th>number</th><th>code</th><th>forename</th><th>surname</th><th>dob</th><th>nationality</th><th>url</th></tr></thead><tbody><tr><td>1</td><td>18</td><td>1</td><td>1</td><td>22</td><td>1</td><td>1</td><td>1</td><td>1</td><td>10</td><td>58</td><td>1:34:50.616</td><td>5690616</td><td>39</td><td>2</td><td>1:27.452</td><td>218.300</td><td>1</td><td>2008</td><td>1</td><td>1</td><td>Australian Grand Prix</td><td>2008-03-16</td><td>04:30:00</td><td>http://en.wikipedia.org/wiki/2008_Australian_Grand_Prix</td><td>\\N</td><td>\\N</td><td>\\N</td><td>\\N</td><td>\\N</td><td>\\N</td><td>\\N</td><td>\\N</td><td>\\N</td><td>\\N</td><td>hamilton</td><td>44</td><td>HAM</td><td>Lewis</td><td>Hamilton</td><td>1985-01-07</td><td>British</td><td>http://en.wikipedia.org/wiki/Lewis_Hamilton</td></tr><tr><td>2</td><td>18</td><td>2</td><td>2</td><td>3</td><td>5</td><td>2</td><td>2</td><td>2</td><td>8</td><td>58</td><td>+5.478</td><td>5696094</td><td>41</td><td>3</td><td>1:27.739</td><td>217.586</td><td>1</td><td>2008</td><td>1</td><td>1</td><td>Australian Grand Prix</td><td>2008-03-16</td><td>04:30:00</td><td>http://en.wikipedia.org/wiki/2008_Australian_Grand_Prix</td><td>\\N</td><td>\\N</td><td>\\N</td><td>\\N</td><td>\\N</td><td>\\N</td><td>\\N</td><td>\\N</td><td>\\N</td><td>\\N</td><td>heidfeld</td><td>\\N</td><td>HEI</td><td>Nick</td><td>Heidfeld</td><td>1977-05-10</td><td>German</td><td>http://en.wikipedia.org/wiki/Nick_Heidfeld</td></tr><tr><td>3</td><td>18</td><td>3</td><td>3</td><td>7</td><td>7</td><td>3</td><td>3</td><td>3</td><td>6</td><td>58</td><td>+8.163</td><td>5698779</td><td>41</td><td>5</td><td>1:28.090</td><td>216.719</td><td>1</td><td>2008</td><td>1</td><td>1</td><td>Australian Grand Prix</td><td>2008-03-16</td><td>04:30:00</td><td>http://en.wikipedia.org/wiki/2008_Australian_Grand_Prix</td><td>\\N</td><td>\\N</td><td>\\N</td><td>\\N</td><td>\\N</td><td>\\N</td><td>\\N</td><td>\\N</td><td>\\N</td><td>\\N</td><td>rosberg</td><td>6</td><td>ROS</td><td>Nico</td><td>Rosberg</td><td>1985-06-27</td><td>German</td><td>http://en.wikipedia.org/wiki/Nico_Rosberg</td></tr><tr><td>4</td><td>18</td><td>4</td><td>4</td><td>5</td><td>11</td><td>4</td><td>4</td><td>4</td><td>5</td><td>58</td><td>+17.181</td><td>5707797</td><td>58</td><td>7</td><td>1:28.603</td><td>215.464</td><td>1</td><td>2008</td><td>1</td><td>1</td><td>Australian Grand Prix</td><td>2008-03-16</td><td>04:30:00</td><td>http://en.wikipedia.org/wiki/2008_Australian_Grand_Prix</td><td>\\N</td><td>\\N</td><td>\\N</td><td>\\N</td><td>\\N</td><td>\\N</td><td>\\N</td><td>\\N</td><td>\\N</td><td>\\N</td><td>alonso</td><td>14</td><td>ALO</td><td>Fernando</td><td>Alonso</td><td>1981-07-29</td><td>Spanish</td><td>http://en.wikipedia.org/wiki/Fernando_Alonso</td></tr><tr><td>5</td><td>18</td><td>5</td><td>1</td><td>23</td><td>3</td><td>5</td><td>5</td><td>5</td><td>4</td><td>58</td><td>+18.014</td><td>5708630</td><td>43</td><td>1</td><td>1:27.418</td><td>218.385</td><td>1</td><td>2008</td><td>1</td><td>1</td><td>Australian Grand Prix</td><td>2008-03-16</td><td>04:30:00</td><td>http://en.wikipedia.org/wiki/2008_Australian_Grand_Prix</td><td>\\N</td><td>\\N</td><td>\\N</td><td>\\N</td><td>\\N</td><td>\\N</td><td>\\N</td><td>\\N</td><td>\\N</td><td>\\N</td><td>kovalainen</td><td>\\N</td><td>KOV</td><td>Heikki</td><td>Kovalainen</td><td>1981-10-19</td><td>Finnish</td><td>http://en.wikipedia.org/wiki/Heikki_Kovalainen</td></tr><tr><td>6</td><td>18</td><td>6</td><td>3</td><td>8</td><td>13</td><td>6</td><td>6</td><td>6</td><td>3</td><td>57</td><td>\\N</td><td>\\N</td><td>50</td><td>14</td><td>1:29.639</td><td>212.974</td><td>11</td><td>2008</td><td>1</td><td>1</td><td>Australian Grand Prix</td><td>2008-03-16</td><td>04:30:00</td><td>http://en.wikipedia.org/wiki/2008_Australian_Grand_Prix</td><td>\\N</td><td>\\N</td><td>\\N</td><td>\\N</td><td>\\N</td><td>\\N</td><td>\\N</td><td>\\N</td><td>\\N</td><td>\\N</td><td>nakajima</td><td>\\N</td><td>NAK</td><td>Kazuki</td><td>Nakajima</td><td>1985-01-11</td><td>Japanese</td><td>http://en.wikipedia.org/wiki/Kazuki_Nakajima</td></tr><tr><td>7</td><td>18</td><td>7</td><td>5</td><td>14</td><td>17</td><td>7</td><td>7</td><td>7</td><td>2</td><td>55</td><td>\\N</td><td>\\N</td><td>22</td><td>12</td><td>1:29.534</td><td>213.224</td><td>5</td><td>2008</td><td>1</td><td>1</td><td>Australian Grand Prix</td><td>2008-03-16</td><td>04:30:00</td><td>http://en.wikipedia.org/wiki/2008_Australian_Grand_Prix</td><td>\\N</td><td>\\N</td><td>\\N</td><td>\\N</td><td>\\N</td><td>\\N</td><td>\\N</td><td>\\N</td><td>\\N</td><td>\\N</td><td>bourdais</td><td>\\N</td><td>BOU</td><td>Sébastien</td><td>Bourdais</td><td>1979-02-28</td><td>French</td><td>http://en.wikipedia.org/wiki/S%C3%A9bastien_Bourdais</td></tr><tr><td>8</td><td>18</td><td>8</td><td>6</td><td>1</td><td>15</td><td>8</td><td>8</td><td>8</td><td>1</td><td>53</td><td>\\N</td><td>\\N</td><td>20</td><td>4</td><td>1:27.903</td><td>217.180</td><td>5</td><td>2008</td><td>1</td><td>1</td><td>Australian Grand Prix</td><td>2008-03-16</td><td>04:30:00</td><td>http://en.wikipedia.org/wiki/2008_Australian_Grand_Prix</td><td>\\N</td><td>\\N</td><td>\\N</td><td>\\N</td><td>\\N</td><td>\\N</td><td>\\N</td><td>\\N</td><td>\\N</td><td>\\N</td><td>raikkonen</td><td>7</td><td>RAI</td><td>Kimi</td><td>Räikkönen</td><td>1979-10-17</td><td>Finnish</td><td>http://en.wikipedia.org/wiki/Kimi_R%C3%A4ikk%C3%B6nen</td></tr><tr><td>9</td><td>18</td><td>9</td><td>2</td><td>4</td><td>2</td><td>\\N</td><td>R</td><td>9</td><td>0</td><td>47</td><td>\\N</td><td>\\N</td><td>15</td><td>9</td><td>1:28.753</td><td>215.100</td><td>4</td><td>2008</td><td>1</td><td>1</td><td>Australian Grand Prix</td><td>2008-03-16</td><td>04:30:00</td><td>http://en.wikipedia.org/wiki/2008_Australian_Grand_Prix</td><td>\\N</td><td>\\N</td><td>\\N</td><td>\\N</td><td>\\N</td><td>\\N</td><td>\\N</td><td>\\N</td><td>\\N</td><td>\\N</td><td>kubica</td><td>88</td><td>KUB</td><td>Robert</td><td>Kubica</td><td>1984-12-07</td><td>Polish</td><td>http://en.wikipedia.org/wiki/Robert_Kubica</td></tr><tr><td>10</td><td>18</td><td>10</td><td>7</td><td>12</td><td>18</td><td>\\N</td><td>R</td><td>10</td><td>0</td><td>43</td><td>\\N</td><td>\\N</td><td>23</td><td>13</td><td>1:29.558</td><td>213.166</td><td>3</td><td>2008</td><td>1</td><td>1</td><td>Australian Grand Prix</td><td>2008-03-16</td><td>04:30:00</td><td>http://en.wikipedia.org/wiki/2008_Australian_Grand_Prix</td><td>\\N</td><td>\\N</td><td>\\N</td><td>\\N</td><td>\\N</td><td>\\N</td><td>\\N</td><td>\\N</td><td>\\N</td><td>\\N</td><td>glock</td><td>\\N</td><td>GLO</td><td>Timo</td><td>Glock</td><td>1982-03-18</td><td>German</td><td>http://en.wikipedia.org/wiki/Timo_Glock</td></tr></tbody></table></div>"
      ]
     },
     "metadata": {
      "application/vnd.databricks.v1+output": {
       "addedWidgets": {},
       "aggData": [],
       "aggError": "",
       "aggOverflow": false,
       "aggSchema": [],
       "aggSeriesLimitReached": false,
       "aggType": "",
       "arguments": {},
       "columnCustomDisplayInfos": {},
       "data": [
        [
         "1",
         "18",
         "1",
         "1",
         "22",
         "1",
         "1",
         "1",
         "1",
         "10",
         "58",
         "1:34:50.616",
         "5690616",
         "39",
         "2",
         "1:27.452",
         "218.300",
         "1",
         "2008",
         "1",
         "1",
         "Australian Grand Prix",
         "2008-03-16",
         "04:30:00",
         "http://en.wikipedia.org/wiki/2008_Australian_Grand_Prix",
         "\\N",
         "\\N",
         "\\N",
         "\\N",
         "\\N",
         "\\N",
         "\\N",
         "\\N",
         "\\N",
         "\\N",
         "hamilton",
         "44",
         "HAM",
         "Lewis",
         "Hamilton",
         "1985-01-07",
         "British",
         "http://en.wikipedia.org/wiki/Lewis_Hamilton"
        ],
        [
         "2",
         "18",
         "2",
         "2",
         "3",
         "5",
         "2",
         "2",
         "2",
         "8",
         "58",
         "+5.478",
         "5696094",
         "41",
         "3",
         "1:27.739",
         "217.586",
         "1",
         "2008",
         "1",
         "1",
         "Australian Grand Prix",
         "2008-03-16",
         "04:30:00",
         "http://en.wikipedia.org/wiki/2008_Australian_Grand_Prix",
         "\\N",
         "\\N",
         "\\N",
         "\\N",
         "\\N",
         "\\N",
         "\\N",
         "\\N",
         "\\N",
         "\\N",
         "heidfeld",
         "\\N",
         "HEI",
         "Nick",
         "Heidfeld",
         "1977-05-10",
         "German",
         "http://en.wikipedia.org/wiki/Nick_Heidfeld"
        ],
        [
         "3",
         "18",
         "3",
         "3",
         "7",
         "7",
         "3",
         "3",
         "3",
         "6",
         "58",
         "+8.163",
         "5698779",
         "41",
         "5",
         "1:28.090",
         "216.719",
         "1",
         "2008",
         "1",
         "1",
         "Australian Grand Prix",
         "2008-03-16",
         "04:30:00",
         "http://en.wikipedia.org/wiki/2008_Australian_Grand_Prix",
         "\\N",
         "\\N",
         "\\N",
         "\\N",
         "\\N",
         "\\N",
         "\\N",
         "\\N",
         "\\N",
         "\\N",
         "rosberg",
         "6",
         "ROS",
         "Nico",
         "Rosberg",
         "1985-06-27",
         "German",
         "http://en.wikipedia.org/wiki/Nico_Rosberg"
        ],
        [
         "4",
         "18",
         "4",
         "4",
         "5",
         "11",
         "4",
         "4",
         "4",
         "5",
         "58",
         "+17.181",
         "5707797",
         "58",
         "7",
         "1:28.603",
         "215.464",
         "1",
         "2008",
         "1",
         "1",
         "Australian Grand Prix",
         "2008-03-16",
         "04:30:00",
         "http://en.wikipedia.org/wiki/2008_Australian_Grand_Prix",
         "\\N",
         "\\N",
         "\\N",
         "\\N",
         "\\N",
         "\\N",
         "\\N",
         "\\N",
         "\\N",
         "\\N",
         "alonso",
         "14",
         "ALO",
         "Fernando",
         "Alonso",
         "1981-07-29",
         "Spanish",
         "http://en.wikipedia.org/wiki/Fernando_Alonso"
        ],
        [
         "5",
         "18",
         "5",
         "1",
         "23",
         "3",
         "5",
         "5",
         "5",
         "4",
         "58",
         "+18.014",
         "5708630",
         "43",
         "1",
         "1:27.418",
         "218.385",
         "1",
         "2008",
         "1",
         "1",
         "Australian Grand Prix",
         "2008-03-16",
         "04:30:00",
         "http://en.wikipedia.org/wiki/2008_Australian_Grand_Prix",
         "\\N",
         "\\N",
         "\\N",
         "\\N",
         "\\N",
         "\\N",
         "\\N",
         "\\N",
         "\\N",
         "\\N",
         "kovalainen",
         "\\N",
         "KOV",
         "Heikki",
         "Kovalainen",
         "1981-10-19",
         "Finnish",
         "http://en.wikipedia.org/wiki/Heikki_Kovalainen"
        ],
        [
         "6",
         "18",
         "6",
         "3",
         "8",
         "13",
         "6",
         "6",
         "6",
         "3",
         "57",
         "\\N",
         "\\N",
         "50",
         "14",
         "1:29.639",
         "212.974",
         "11",
         "2008",
         "1",
         "1",
         "Australian Grand Prix",
         "2008-03-16",
         "04:30:00",
         "http://en.wikipedia.org/wiki/2008_Australian_Grand_Prix",
         "\\N",
         "\\N",
         "\\N",
         "\\N",
         "\\N",
         "\\N",
         "\\N",
         "\\N",
         "\\N",
         "\\N",
         "nakajima",
         "\\N",
         "NAK",
         "Kazuki",
         "Nakajima",
         "1985-01-11",
         "Japanese",
         "http://en.wikipedia.org/wiki/Kazuki_Nakajima"
        ],
        [
         "7",
         "18",
         "7",
         "5",
         "14",
         "17",
         "7",
         "7",
         "7",
         "2",
         "55",
         "\\N",
         "\\N",
         "22",
         "12",
         "1:29.534",
         "213.224",
         "5",
         "2008",
         "1",
         "1",
         "Australian Grand Prix",
         "2008-03-16",
         "04:30:00",
         "http://en.wikipedia.org/wiki/2008_Australian_Grand_Prix",
         "\\N",
         "\\N",
         "\\N",
         "\\N",
         "\\N",
         "\\N",
         "\\N",
         "\\N",
         "\\N",
         "\\N",
         "bourdais",
         "\\N",
         "BOU",
         "Sébastien",
         "Bourdais",
         "1979-02-28",
         "French",
         "http://en.wikipedia.org/wiki/S%C3%A9bastien_Bourdais"
        ],
        [
         "8",
         "18",
         "8",
         "6",
         "1",
         "15",
         "8",
         "8",
         "8",
         "1",
         "53",
         "\\N",
         "\\N",
         "20",
         "4",
         "1:27.903",
         "217.180",
         "5",
         "2008",
         "1",
         "1",
         "Australian Grand Prix",
         "2008-03-16",
         "04:30:00",
         "http://en.wikipedia.org/wiki/2008_Australian_Grand_Prix",
         "\\N",
         "\\N",
         "\\N",
         "\\N",
         "\\N",
         "\\N",
         "\\N",
         "\\N",
         "\\N",
         "\\N",
         "raikkonen",
         "7",
         "RAI",
         "Kimi",
         "Räikkönen",
         "1979-10-17",
         "Finnish",
         "http://en.wikipedia.org/wiki/Kimi_R%C3%A4ikk%C3%B6nen"
        ],
        [
         "9",
         "18",
         "9",
         "2",
         "4",
         "2",
         "\\N",
         "R",
         "9",
         "0",
         "47",
         "\\N",
         "\\N",
         "15",
         "9",
         "1:28.753",
         "215.100",
         "4",
         "2008",
         "1",
         "1",
         "Australian Grand Prix",
         "2008-03-16",
         "04:30:00",
         "http://en.wikipedia.org/wiki/2008_Australian_Grand_Prix",
         "\\N",
         "\\N",
         "\\N",
         "\\N",
         "\\N",
         "\\N",
         "\\N",
         "\\N",
         "\\N",
         "\\N",
         "kubica",
         "88",
         "KUB",
         "Robert",
         "Kubica",
         "1984-12-07",
         "Polish",
         "http://en.wikipedia.org/wiki/Robert_Kubica"
        ],
        [
         "10",
         "18",
         "10",
         "7",
         "12",
         "18",
         "\\N",
         "R",
         "10",
         "0",
         "43",
         "\\N",
         "\\N",
         "23",
         "13",
         "1:29.558",
         "213.166",
         "3",
         "2008",
         "1",
         "1",
         "Australian Grand Prix",
         "2008-03-16",
         "04:30:00",
         "http://en.wikipedia.org/wiki/2008_Australian_Grand_Prix",
         "\\N",
         "\\N",
         "\\N",
         "\\N",
         "\\N",
         "\\N",
         "\\N",
         "\\N",
         "\\N",
         "\\N",
         "glock",
         "\\N",
         "GLO",
         "Timo",
         "Glock",
         "1982-03-18",
         "German",
         "http://en.wikipedia.org/wiki/Timo_Glock"
        ]
       ],
       "datasetInfos": [],
       "dbfsResultPath": null,
       "isJsonSchema": true,
       "metadata": {},
       "overflow": false,
       "plotOptions": {
        "customPlotOptions": {},
        "displayType": "table",
        "pivotAggregation": null,
        "pivotColumns": null,
        "xColumns": null,
        "yColumns": null
       },
       "removedWidgets": [],
       "schema": [
        {
         "metadata": "{}",
         "name": "driverId",
         "type": "\"string\""
        },
        {
         "metadata": "{}",
         "name": "raceId",
         "type": "\"string\""
        },
        {
         "metadata": "{}",
         "name": "resultId",
         "type": "\"string\""
        },
        {
         "metadata": "{}",
         "name": "constructorId",
         "type": "\"string\""
        },
        {
         "metadata": "{}",
         "name": "number",
         "type": "\"string\""
        },
        {
         "metadata": "{}",
         "name": "grid",
         "type": "\"string\""
        },
        {
         "metadata": "{}",
         "name": "position",
         "type": "\"string\""
        },
        {
         "metadata": "{}",
         "name": "positionText",
         "type": "\"string\""
        },
        {
         "metadata": "{}",
         "name": "positionOrder",
         "type": "\"string\""
        },
        {
         "metadata": "{}",
         "name": "points",
         "type": "\"string\""
        },
        {
         "metadata": "{}",
         "name": "laps",
         "type": "\"string\""
        },
        {
         "metadata": "{}",
         "name": "time",
         "type": "\"string\""
        },
        {
         "metadata": "{}",
         "name": "milliseconds",
         "type": "\"string\""
        },
        {
         "metadata": "{}",
         "name": "fastestLap",
         "type": "\"string\""
        },
        {
         "metadata": "{}",
         "name": "rank",
         "type": "\"string\""
        },
        {
         "metadata": "{}",
         "name": "fastestLapTime",
         "type": "\"string\""
        },
        {
         "metadata": "{}",
         "name": "fastestLapSpeed",
         "type": "\"string\""
        },
        {
         "metadata": "{}",
         "name": "statusId",
         "type": "\"string\""
        },
        {
         "metadata": "{}",
         "name": "year",
         "type": "\"string\""
        },
        {
         "metadata": "{}",
         "name": "round",
         "type": "\"string\""
        },
        {
         "metadata": "{}",
         "name": "circuitId",
         "type": "\"string\""
        },
        {
         "metadata": "{}",
         "name": "name",
         "type": "\"string\""
        },
        {
         "metadata": "{}",
         "name": "date",
         "type": "\"string\""
        },
        {
         "metadata": "{}",
         "name": "time",
         "type": "\"string\""
        },
        {
         "metadata": "{}",
         "name": "url",
         "type": "\"string\""
        },
        {
         "metadata": "{}",
         "name": "fp1_date",
         "type": "\"string\""
        },
        {
         "metadata": "{}",
         "name": "fp1_time",
         "type": "\"string\""
        },
        {
         "metadata": "{}",
         "name": "fp2_date",
         "type": "\"string\""
        },
        {
         "metadata": "{}",
         "name": "fp2_time",
         "type": "\"string\""
        },
        {
         "metadata": "{}",
         "name": "fp3_date",
         "type": "\"string\""
        },
        {
         "metadata": "{}",
         "name": "fp3_time",
         "type": "\"string\""
        },
        {
         "metadata": "{}",
         "name": "quali_date",
         "type": "\"string\""
        },
        {
         "metadata": "{}",
         "name": "quali_time",
         "type": "\"string\""
        },
        {
         "metadata": "{}",
         "name": "sprint_date",
         "type": "\"string\""
        },
        {
         "metadata": "{}",
         "name": "sprint_time",
         "type": "\"string\""
        },
        {
         "metadata": "{}",
         "name": "driverRef",
         "type": "\"string\""
        },
        {
         "metadata": "{}",
         "name": "number",
         "type": "\"string\""
        },
        {
         "metadata": "{}",
         "name": "code",
         "type": "\"string\""
        },
        {
         "metadata": "{}",
         "name": "forename",
         "type": "\"string\""
        },
        {
         "metadata": "{}",
         "name": "surname",
         "type": "\"string\""
        },
        {
         "metadata": "{}",
         "name": "dob",
         "type": "\"string\""
        },
        {
         "metadata": "{}",
         "name": "nationality",
         "type": "\"string\""
        },
        {
         "metadata": "{}",
         "name": "url",
         "type": "\"string\""
        }
       ],
       "type": "table"
      }
     },
     "output_type": "display_data"
    }
   ],
   "source": [
    "merged_df = df_results.join(df_races, on=\"raceId\", how=\"left\")\n",
    "merged_df = merged_df.join(df_drivers, on=\"driverId\", how=\"left\")\n",
    "display(merged_df.limit(10))"
   ]
  },
  {
   "cell_type": "code",
   "execution_count": 0,
   "metadata": {
    "application/vnd.databricks.v1+cell": {
     "cellMetadata": {
      "byteLimit": 2048000,
      "rowLimit": 10000
     },
     "inputWidgets": {},
     "nuid": "a462ee11-e9d5-4fea-b2de-00c853e1a744",
     "showTitle": false,
     "tableResultSettingsMap": {},
     "title": ""
    }
   },
   "outputs": [
    {
     "output_type": "stream",
     "name": "stdout",
     "output_type": "stream",
     "text": [
      "Total records for modeling: 26080\n"
     ]
    },
    {
     "output_type": "display_data",
     "data": {
      "text/html": [
       "<style scoped>\n",
       "  .table-result-container {\n",
       "    max-height: 300px;\n",
       "    overflow: auto;\n",
       "  }\n",
       "  table, th, td {\n",
       "    border: 1px solid black;\n",
       "    border-collapse: collapse;\n",
       "  }\n",
       "  th, td {\n",
       "    padding: 5px;\n",
       "  }\n",
       "  th {\n",
       "    text-align: left;\n",
       "  }\n",
       "</style><div class='table-result-container'><table class='table-result'><thead style='background-color: white'><tr><th>grid</th><th>driver_age</th><th>laps</th><th>positionOrder</th></tr></thead><tbody><tr><td>1.0</td><td>23.186858316221766</td><td>58.0</td><td>1.0</td></tr><tr><td>5.0</td><td>30.850102669404517</td><td>58.0</td><td>2.0</td></tr><tr><td>7.0</td><td>22.718685831622178</td><td>58.0</td><td>3.0</td></tr><tr><td>11.0</td><td>26.63107460643395</td><td>58.0</td><td>4.0</td></tr><tr><td>3.0</td><td>26.406570841889117</td><td>58.0</td><td>5.0</td></tr><tr><td>13.0</td><td>23.175906913073238</td><td>57.0</td><td>6.0</td></tr><tr><td>17.0</td><td>29.045859000684462</td><td>55.0</td><td>7.0</td></tr><tr><td>15.0</td><td>28.413415468856947</td><td>53.0</td><td>8.0</td></tr><tr><td>2.0</td><td>23.27173169062286</td><td>47.0</td><td>9.0</td></tr><tr><td>18.0</td><td>25.9958932238193</td><td>43.0</td><td>10.0</td></tr></tbody></table></div>"
      ]
     },
     "metadata": {
      "application/vnd.databricks.v1+output": {
       "addedWidgets": {},
       "aggData": [],
       "aggError": "",
       "aggOverflow": false,
       "aggSchema": [],
       "aggSeriesLimitReached": false,
       "aggType": "",
       "arguments": {},
       "columnCustomDisplayInfos": {},
       "data": [
        [
         1.0,
         23.186858316221766,
         58.0,
         1.0
        ],
        [
         5.0,
         30.850102669404517,
         58.0,
         2.0
        ],
        [
         7.0,
         22.718685831622178,
         58.0,
         3.0
        ],
        [
         11.0,
         26.63107460643395,
         58.0,
         4.0
        ],
        [
         3.0,
         26.406570841889117,
         58.0,
         5.0
        ],
        [
         13.0,
         23.175906913073238,
         57.0,
         6.0
        ],
        [
         17.0,
         29.045859000684462,
         55.0,
         7.0
        ],
        [
         15.0,
         28.413415468856947,
         53.0,
         8.0
        ],
        [
         2.0,
         23.27173169062286,
         47.0,
         9.0
        ],
        [
         18.0,
         25.9958932238193,
         43.0,
         10.0
        ]
       ],
       "datasetInfos": [],
       "dbfsResultPath": null,
       "isJsonSchema": true,
       "metadata": {},
       "overflow": false,
       "plotOptions": {
        "customPlotOptions": {},
        "displayType": "table",
        "pivotAggregation": null,
        "pivotColumns": null,
        "xColumns": null,
        "yColumns": null
       },
       "removedWidgets": [],
       "schema": [
        {
         "metadata": "{}",
         "name": "grid",
         "type": "\"double\""
        },
        {
         "metadata": "{}",
         "name": "driver_age",
         "type": "\"double\""
        },
        {
         "metadata": "{}",
         "name": "laps",
         "type": "\"double\""
        },
        {
         "metadata": "{}",
         "name": "positionOrder",
         "type": "\"double\""
        }
       ],
       "type": "table"
      }
     },
     "output_type": "display_data"
    }
   ],
   "source": [
    "merged_df = merged_df.withColumn(\"grid\", merged_df[\"grid\"].cast(DoubleType()))\n",
    "merged_df = merged_df.withColumn(\"positionOrder\", merged_df[\"positionOrder\"].cast(DoubleType()))\n",
    "merged_df = merged_df.withColumn(\"laps\", merged_df[\"laps\"].cast(DoubleType()))\n",
    "\n",
    "merged_df = merged_df.withColumn(\"dob\", F.to_date(merged_df[\"dob\"]))\n",
    "merged_df = merged_df.withColumn(\"date\", F.to_date(merged_df[\"date\"]))\n",
    "merged_df = merged_df.withColumn(\"driver_age\", \n",
    "                                F.datediff(merged_df[\"date\"], merged_df[\"dob\"])/365.25)\n",
    "\n",
    "model_df = merged_df.select(\"grid\", \"driver_age\", \"laps\", \"positionOrder\")\n",
    "model_df = model_df.dropna()\n",
    "\n",
    "print(f\"Total records for modeling: {model_df.count()}\")\n",
    "display(model_df.limit(10))"
   ]
  },
  {
   "cell_type": "code",
   "execution_count": 0,
   "metadata": {
    "application/vnd.databricks.v1+cell": {
     "cellMetadata": {
      "byteLimit": 2048000,
      "rowLimit": 10000
     },
     "inputWidgets": {},
     "nuid": "f6f04d69-6322-45bc-9daf-61d2d249571a",
     "showTitle": false,
     "tableResultSettingsMap": {},
     "title": ""
    }
   },
   "outputs": [
    {
     "output_type": "stream",
     "name": "stdout",
     "output_type": "stream",
     "text": [
      "Training set count: 20874\nTesting set count: 5206\n"
     ]
    }
   ],
   "source": [
    "train_df, test_df = model_df.randomSplit([0.8, 0.2], seed=42)\n",
    "print(f\"Training set count: {train_df.count()}\")\n",
    "print(f\"Testing set count: {test_df.count()}\")\n",
    "\n",
    "feature_cols = [\"grid\", \"driver_age\", \"laps\"]\n",
    "assembler = VectorAssembler(inputCols=feature_cols, outputCol=\"features\")"
   ]
  },
  {
   "cell_type": "code",
   "execution_count": 0,
   "metadata": {
    "application/vnd.databricks.v1+cell": {
     "cellMetadata": {
      "byteLimit": 2048000,
      "rowLimit": 10000
     },
     "inputWidgets": {},
     "nuid": "01e60b0d-f7b7-4c54-aa8b-e8a002ddd83f",
     "showTitle": false,
     "tableResultSettingsMap": {},
     "title": ""
    }
   },
   "outputs": [],
   "source": [
    "def train_model_simple(model_type, params=None):\n",
    "    \n",
    "    with mlflow.start_run():\n",
    "        mlflow.log_param(\"model_type\", model_type)\n",
    "        if params:\n",
    "            for key, value in params.items():\n",
    "                mlflow.log_param(key, value)\n",
    "\n",
    "        train_vector = assembler.transform(train_df)\n",
    "        test_vector = assembler.transform(test_df)\n",
    "\n",
    "        if model_type == 'rf':\n",
    "            model = RandomForestRegressor(featuresCol=\"features\", labelCol=\"positionOrder\", **params if params else {})\n",
    "        elif model_type == 'gbt':\n",
    "            model = GBTRegressor(featuresCol=\"features\", labelCol=\"positionOrder\", **params if params else {})\n",
    "\n",
    "        trained_model = model.fit(train_vector)\n",
    "\n",
    "        predictions = trained_model.transform(test_vector)\n",
    "\n",
    "        evaluator = RegressionEvaluator(labelCol=\"positionOrder\", predictionCol=\"prediction\")\n",
    "        rmse = evaluator.setMetricName(\"rmse\").evaluate(predictions)\n",
    "        r2 = evaluator.setMetricName(\"r2\").evaluate(predictions)\n",
    "\n",
    "        pred_df = predictions.select(\"positionOrder\", \"prediction\").toPandas()\n",
    "        acc_within_1 = np.mean(np.abs(pred_df[\"positionOrder\"] - np.round(pred_df[\"prediction\"])) <= 1) * 100\n",
    "        acc_within_3 = np.mean(np.abs(pred_df[\"positionOrder\"] - np.round(pred_df[\"prediction\"])) <= 3) * 100\n",
    "\n",
    "        mlflow.log_metric(\"rmse\", rmse)\n",
    "        mlflow.log_metric(\"r2\", r2)\n",
    "        mlflow.log_metric(\"accuracy_within_1\", acc_within_1)\n",
    "        mlflow.log_metric(\"accuracy_within_3\", acc_within_3)\n",
    "\n",
    "        feature_importance = pd.DataFrame({\n",
    "            'Feature': feature_cols,\n",
    "            'Importance': trained_model.featureImportances.toArray()\n",
    "        }).sort_values('Importance', ascending=False)\n",
    "        \n",
    "        plt.figure(figsize=(8, 4))\n",
    "        plt.barh(feature_importance['Feature'], feature_importance['Importance'])\n",
    "        plt.title('Feature Importance')\n",
    "        plt.tight_layout()\n",
    "        plt.savefig(\"feature_importance.png\")\n",
    "        plt.close()\n",
    "\n",
    "        mlflow.log_artifact(\"feature_importance.png\")\n",
    "        feature_importance.to_csv(\"feature_importance.csv\", index=False)\n",
    "        mlflow.log_artifact(\"feature_importance.csv\")\n",
    "        \n",
    "        mlflow.spark.log_model(trained_model, f\"{model_type}_model\")\n",
    "        \n",
    "        return trained_model, rmse, r2, acc_within_1, acc_within_3"
   ]
  },
  {
   "cell_type": "code",
   "execution_count": 0,
   "metadata": {
    "application/vnd.databricks.v1+cell": {
     "cellMetadata": {
      "byteLimit": 2048000,
      "rowLimit": 10000
     },
     "inputWidgets": {},
     "nuid": "a8a556df-c5cb-4b59-a9b1-7356c0c39d35",
     "showTitle": false,
     "tableResultSettingsMap": {},
     "title": ""
    }
   },
   "outputs": [
    {
     "output_type": "stream",
     "name": "stdout",
     "output_type": "stream",
     "text": [
      "RF Experiment 1/5\n"
     ]
    },
    {
     "output_type": "stream",
     "name": "stderr",
     "output_type": "stream",
     "text": [
      "2025/04/09 06:13:37 INFO mlflow.spark: Inferring pip requirements by reloading the logged model from the databricks artifact repository, which can be time-consuming. To speed up, explicitly specify the conda_env or pip_requirements when calling log_model().\n2025/04/09 06:14:01 WARNING mlflow.utils.environment: Encountered an unexpected error while inferring pip requirements (model URI: dbfs:/databricks/mlflow-tracking/108253902178481/de1add0519a44d57879755665be551cb/artifacts/rf_model/sparkml, flavor: spark). Fall back to return ['pyspark==3.5.0']. Set logging level to DEBUG to see the full traceback. \n2025/04/09 06:14:01 WARNING mlflow.utils.requirements_utils: Detected one or more mismatches between the model's dependencies and the current Python environment:\n - mlflow (current: 2.21.3, required: mlflow==2.11.4)\nTo fix the mismatches, call `mlflow.pyfunc.get_model_dependencies(model_uri)` to fetch the model's environment and install dependencies using the resulting environment file.\n/databricks/python/lib/python3.11/site-packages/_distutils_hack/__init__.py:33: UserWarning: Setuptools is replacing distutils.\n  warnings.warn(\"Setuptools is replacing distutils.\")\n"
     ]
    },
    {
     "output_type": "stream",
     "name": "stdout",
     "output_type": "stream",
     "text": [
      "RF Experiment 2/5\n"
     ]
    },
    {
     "output_type": "stream",
     "name": "stderr",
     "output_type": "stream",
     "text": [
      "2025/04/09 06:15:51 INFO mlflow.spark: Inferring pip requirements by reloading the logged model from the databricks artifact repository, which can be time-consuming. To speed up, explicitly specify the conda_env or pip_requirements when calling log_model().\n2025/04/09 06:16:14 WARNING mlflow.utils.environment: Encountered an unexpected error while inferring pip requirements (model URI: dbfs:/databricks/mlflow-tracking/108253902178481/d984e884b2e940daa7e889b612c9bc6d/artifacts/rf_model/sparkml, flavor: spark). Fall back to return ['pyspark==3.5.0']. Set logging level to DEBUG to see the full traceback. \n2025/04/09 06:16:14 WARNING mlflow.utils.requirements_utils: Detected one or more mismatches between the model's dependencies and the current Python environment:\n - mlflow (current: 2.21.3, required: mlflow==2.11.4)\nTo fix the mismatches, call `mlflow.pyfunc.get_model_dependencies(model_uri)` to fetch the model's environment and install dependencies using the resulting environment file.\n"
     ]
    },
    {
     "output_type": "stream",
     "name": "stdout",
     "output_type": "stream",
     "text": [
      "RF Experiment 3/5\n"
     ]
    },
    {
     "output_type": "stream",
     "name": "stderr",
     "output_type": "stream",
     "text": [
      "2025/04/09 06:16:41 INFO mlflow.spark: Inferring pip requirements by reloading the logged model from the databricks artifact repository, which can be time-consuming. To speed up, explicitly specify the conda_env or pip_requirements when calling log_model().\n2025/04/09 06:17:04 WARNING mlflow.utils.environment: Encountered an unexpected error while inferring pip requirements (model URI: dbfs:/databricks/mlflow-tracking/108253902178481/7a78070697c9450896efd25906df9477/artifacts/rf_model/sparkml, flavor: spark). Fall back to return ['pyspark==3.5.0']. Set logging level to DEBUG to see the full traceback. \n2025/04/09 06:17:04 WARNING mlflow.utils.requirements_utils: Detected one or more mismatches between the model's dependencies and the current Python environment:\n - mlflow (current: 2.21.3, required: mlflow==2.11.4)\nTo fix the mismatches, call `mlflow.pyfunc.get_model_dependencies(model_uri)` to fetch the model's environment and install dependencies using the resulting environment file.\n"
     ]
    },
    {
     "output_type": "stream",
     "name": "stdout",
     "output_type": "stream",
     "text": [
      "RF Experiment 4/5\n"
     ]
    },
    {
     "output_type": "stream",
     "name": "stderr",
     "output_type": "stream",
     "text": [
      "2025/04/09 06:18:40 INFO mlflow.spark: Inferring pip requirements by reloading the logged model from the databricks artifact repository, which can be time-consuming. To speed up, explicitly specify the conda_env or pip_requirements when calling log_model().\n2025/04/09 06:19:03 WARNING mlflow.utils.environment: Encountered an unexpected error while inferring pip requirements (model URI: dbfs:/databricks/mlflow-tracking/108253902178481/7b399ac0c89b4d8f8c4d4ef99e84578d/artifacts/rf_model/sparkml, flavor: spark). Fall back to return ['pyspark==3.5.0']. Set logging level to DEBUG to see the full traceback. \n2025/04/09 06:19:03 WARNING mlflow.utils.requirements_utils: Detected one or more mismatches between the model's dependencies and the current Python environment:\n - mlflow (current: 2.21.3, required: mlflow==2.11.4)\nTo fix the mismatches, call `mlflow.pyfunc.get_model_dependencies(model_uri)` to fetch the model's environment and install dependencies using the resulting environment file.\n"
     ]
    },
    {
     "output_type": "stream",
     "name": "stdout",
     "output_type": "stream",
     "text": [
      "RF Experiment 5/5\n"
     ]
    },
    {
     "output_type": "stream",
     "name": "stderr",
     "output_type": "stream",
     "text": [
      "2025/04/09 06:19:47 INFO mlflow.spark: Inferring pip requirements by reloading the logged model from the databricks artifact repository, which can be time-consuming. To speed up, explicitly specify the conda_env or pip_requirements when calling log_model().\n2025/04/09 06:20:10 WARNING mlflow.utils.environment: Encountered an unexpected error while inferring pip requirements (model URI: dbfs:/databricks/mlflow-tracking/108253902178481/85c7454a2be14f12a99695043842db8d/artifacts/rf_model/sparkml, flavor: spark). Fall back to return ['pyspark==3.5.0']. Set logging level to DEBUG to see the full traceback. \n2025/04/09 06:20:10 WARNING mlflow.utils.requirements_utils: Detected one or more mismatches between the model's dependencies and the current Python environment:\n - mlflow (current: 2.21.3, required: mlflow==2.11.4)\nTo fix the mismatches, call `mlflow.pyfunc.get_model_dependencies(model_uri)` to fetch the model's environment and install dependencies using the resulting environment file.\n"
     ]
    },
    {
     "output_type": "stream",
     "name": "stdout",
     "output_type": "stream",
     "text": [
      "GBT Experiment 1/5\n"
     ]
    },
    {
     "output_type": "stream",
     "name": "stderr",
     "output_type": "stream",
     "text": [
      "2025/04/09 06:21:04 INFO mlflow.spark: Inferring pip requirements by reloading the logged model from the databricks artifact repository, which can be time-consuming. To speed up, explicitly specify the conda_env or pip_requirements when calling log_model().\n2025/04/09 06:21:27 WARNING mlflow.utils.environment: Encountered an unexpected error while inferring pip requirements (model URI: dbfs:/databricks/mlflow-tracking/108253902178481/6f7fc4acbeea457cb83a875b5f5273a7/artifacts/gbt_model/sparkml, flavor: spark). Fall back to return ['pyspark==3.5.0']. Set logging level to DEBUG to see the full traceback. \n2025/04/09 06:21:27 WARNING mlflow.utils.requirements_utils: Detected one or more mismatches between the model's dependencies and the current Python environment:\n - mlflow (current: 2.21.3, required: mlflow==2.11.4)\nTo fix the mismatches, call `mlflow.pyfunc.get_model_dependencies(model_uri)` to fetch the model's environment and install dependencies using the resulting environment file.\n"
     ]
    },
    {
     "output_type": "stream",
     "name": "stdout",
     "output_type": "stream",
     "text": [
      "GBT Experiment 2/5\n"
     ]
    },
    {
     "output_type": "stream",
     "name": "stderr",
     "output_type": "stream",
     "text": [
      "2025/04/09 06:23:44 INFO mlflow.spark: Inferring pip requirements by reloading the logged model from the databricks artifact repository, which can be time-consuming. To speed up, explicitly specify the conda_env or pip_requirements when calling log_model().\n2025/04/09 06:24:07 WARNING mlflow.utils.environment: Encountered an unexpected error while inferring pip requirements (model URI: dbfs:/databricks/mlflow-tracking/108253902178481/4fc730ea9f0949f4a9457eb0adc69cd6/artifacts/gbt_model/sparkml, flavor: spark). Fall back to return ['pyspark==3.5.0']. Set logging level to DEBUG to see the full traceback. \n2025/04/09 06:24:07 WARNING mlflow.utils.requirements_utils: Detected one or more mismatches between the model's dependencies and the current Python environment:\n - mlflow (current: 2.21.3, required: mlflow==2.11.4)\nTo fix the mismatches, call `mlflow.pyfunc.get_model_dependencies(model_uri)` to fetch the model's environment and install dependencies using the resulting environment file.\n"
     ]
    },
    {
     "output_type": "stream",
     "name": "stdout",
     "output_type": "stream",
     "text": [
      "GBT Experiment 3/5\n"
     ]
    },
    {
     "output_type": "stream",
     "name": "stderr",
     "output_type": "stream",
     "text": [
      "2025/04/09 06:25:49 INFO mlflow.spark: Inferring pip requirements by reloading the logged model from the databricks artifact repository, which can be time-consuming. To speed up, explicitly specify the conda_env or pip_requirements when calling log_model().\n2025/04/09 06:26:13 WARNING mlflow.utils.environment: Encountered an unexpected error while inferring pip requirements (model URI: dbfs:/databricks/mlflow-tracking/108253902178481/9e2e3a909a994cb2b33cb757fe0a04cd/artifacts/gbt_model/sparkml, flavor: spark). Fall back to return ['pyspark==3.5.0']. Set logging level to DEBUG to see the full traceback. \n2025/04/09 06:26:13 WARNING mlflow.utils.requirements_utils: Detected one or more mismatches between the model's dependencies and the current Python environment:\n - mlflow (current: 2.21.3, required: mlflow==2.11.4)\nTo fix the mismatches, call `mlflow.pyfunc.get_model_dependencies(model_uri)` to fetch the model's environment and install dependencies using the resulting environment file.\n"
     ]
    },
    {
     "output_type": "stream",
     "name": "stdout",
     "output_type": "stream",
     "text": [
      "GBT Experiment 4/5\n"
     ]
    },
    {
     "output_type": "stream",
     "name": "stderr",
     "output_type": "stream",
     "text": [
      "2025/04/09 06:28:24 INFO mlflow.spark: Inferring pip requirements by reloading the logged model from the databricks artifact repository, which can be time-consuming. To speed up, explicitly specify the conda_env or pip_requirements when calling log_model().\n2025/04/09 06:28:48 WARNING mlflow.utils.environment: Encountered an unexpected error while inferring pip requirements (model URI: dbfs:/databricks/mlflow-tracking/108253902178481/9a5223846a5a488283f777d3637655af/artifacts/gbt_model/sparkml, flavor: spark). Fall back to return ['pyspark==3.5.0']. Set logging level to DEBUG to see the full traceback. \n2025/04/09 06:28:48 WARNING mlflow.utils.requirements_utils: Detected one or more mismatches between the model's dependencies and the current Python environment:\n - mlflow (current: 2.21.3, required: mlflow==2.11.4)\nTo fix the mismatches, call `mlflow.pyfunc.get_model_dependencies(model_uri)` to fetch the model's environment and install dependencies using the resulting environment file.\n"
     ]
    },
    {
     "output_type": "stream",
     "name": "stdout",
     "output_type": "stream",
     "text": [
      "GBT Experiment 5/5\n"
     ]
    },
    {
     "output_type": "stream",
     "name": "stderr",
     "output_type": "stream",
     "text": [
      "2025/04/09 06:30:54 INFO mlflow.spark: Inferring pip requirements by reloading the logged model from the databricks artifact repository, which can be time-consuming. To speed up, explicitly specify the conda_env or pip_requirements when calling log_model().\n2025/04/09 06:31:18 WARNING mlflow.utils.environment: Encountered an unexpected error while inferring pip requirements (model URI: dbfs:/databricks/mlflow-tracking/108253902178481/ef6827f3d3f34e79936a26cf1f6dce45/artifacts/gbt_model/sparkml, flavor: spark). Fall back to return ['pyspark==3.5.0']. Set logging level to DEBUG to see the full traceback. \n2025/04/09 06:31:18 WARNING mlflow.utils.requirements_utils: Detected one or more mismatches between the model's dependencies and the current Python environment:\n - mlflow (current: 2.21.3, required: mlflow==2.11.4)\nTo fix the mismatches, call `mlflow.pyfunc.get_model_dependencies(model_uri)` to fetch the model's environment and install dependencies using the resulting environment file.\n"
     ]
    },
    {
     "output_type": "stream",
     "name": "stdout",
     "output_type": "stream",
     "text": [
      "\n===== Experiment Results =====\n          Model Type      RMSE  ...  Accuracy within ±1  Accuracy within ±3\n0      Random Forest  4.286192  ...           28.082981           62.120630\n1      Random Forest  4.292913  ...           28.447945           62.255090\n2      Random Forest  4.528787  ...           23.107952           53.169420\n3      Random Forest  4.322660  ...           28.697657           61.928544\n4      Random Forest  4.284113  ...           27.814061           61.736458\n5  Gradient Boosting  4.248023  ...           29.811756           63.772570\n6  Gradient Boosting  4.285469  ...           30.464848           63.484441\n7  Gradient Boosting  4.309558  ...           29.850173           63.734153\n8  Gradient Boosting  4.345866  ...           30.426431           62.773723\n9  Gradient Boosting  4.238328  ...           30.061468           63.676527\n\n[10 rows x 5 columns]\n\n===== Best Model =====\nModel Type: Gradient Boosting\nParameters: {'maxIter': 300, 'stepSize': 0.05, 'maxDepth': 3, 'seed': 42}\nRMSE: 4.2383\nR²: 0.6901\nAccuracy within ±1 position: 30.06%\nAccuracy within ±3 positions: 63.68%\n"
     ]
    }
   ],
   "source": [
    "# Parameters\n",
    "rf_params = [\n",
    "    {'numTrees': 100, 'maxDepth': 10, 'seed': 42},\n",
    "    {'numTrees': 200, 'maxDepth': 15, 'seed': 42},\n",
    "    {'numTrees': 300, 'maxDepth': 5, 'seed': 42},\n",
    "    {'numTrees': 100, 'maxDepth': 20, 'seed': 42},\n",
    "    {'numTrees': 200, 'maxDepth': 10, 'seed': 42}\n",
    "]\n",
    "\n",
    "gbt_params = [\n",
    "    {'maxIter': 100, 'stepSize': 0.1, 'maxDepth': 3, 'seed': 42},\n",
    "    {'maxIter': 200, 'stepSize': 0.05, 'maxDepth': 5, 'seed': 42},\n",
    "    {'maxIter': 100, 'stepSize': 0.01, 'maxDepth': 7, 'seed': 42},\n",
    "    {'maxIter': 200, 'stepSize': 0.1, 'maxDepth': 5, 'seed': 42},\n",
    "    {'maxIter': 300, 'stepSize': 0.05, 'maxDepth': 3, 'seed': 42}\n",
    "]\n",
    "\n",
    "results = []\n",
    "\n",
    "# Random Forest experiments\n",
    "for i, params in enumerate(rf_params):\n",
    "    print(f\"RF Experiment {i+1}/{len(rf_params)}\")\n",
    "    _, rmse, r2, acc1, acc3 = train_model_simple('rf', params)\n",
    "    results.append({\n",
    "        'Model Type': 'Random Forest',\n",
    "        'Parameters': params,\n",
    "        'RMSE': rmse,\n",
    "        'R²': r2,\n",
    "        'Accuracy within ±1': acc1,\n",
    "        'Accuracy within ±3': acc3\n",
    "    })\n",
    "\n",
    "# Gradient Boosting experiments\n",
    "for i, params in enumerate(gbt_params):\n",
    "    print(f\"GBT Experiment {i+1}/{len(gbt_params)}\")\n",
    "    _, rmse, r2, acc1, acc3 = train_model_simple('gbt', params)\n",
    "    results.append({\n",
    "        'Model Type': 'Gradient Boosting',\n",
    "        'Parameters': params,\n",
    "        'RMSE': rmse,\n",
    "        'R²': r2,\n",
    "        'Accuracy within ±1': acc1,\n",
    "        'Accuracy within ±3': acc3\n",
    "    })\n",
    "\n",
    "\n",
    "results_df = pd.DataFrame(results)\n",
    "best_model = results_df.loc[results_df['RMSE'].idxmin()]\n",
    "\n",
    "print(\"\\n===== Experiment Results =====\")\n",
    "print(results_df[['Model Type', 'RMSE', 'R²', 'Accuracy within ±1', 'Accuracy within ±3']])\n",
    "print(\"\\n===== Best Model =====\")\n",
    "print(f\"Model Type: {best_model['Model Type']}\")\n",
    "print(f\"Parameters: {best_model['Parameters']}\")\n",
    "print(f\"RMSE: {best_model['RMSE']:.4f}\")\n",
    "print(f\"R²: {best_model['R²']:.4f}\")\n",
    "print(f\"Accuracy within ±1 position: {best_model['Accuracy within ±1']:.2f}%\")\n",
    "print(f\"Accuracy within ±3 positions: {best_model['Accuracy within ±3']:.2f}%\")"
   ]
  },
  {
   "cell_type": "markdown",
   "metadata": {
    "application/vnd.databricks.v1+cell": {
     "cellMetadata": {},
     "inputWidgets": {},
     "nuid": "093a0e09-dfaf-453f-8558-e4b33de04499",
     "showTitle": true,
     "tableResultSettingsMap": {},
     "title": ""
    }
   },
   "source": [
    "**Best Model**\n",
    "\n",
    "For this F1 position prediction project, we testes 10 different models: 5 Random Forest and 5 Gradient Boosting models with different hyperparameters. The best performing model was a Gradient Boosting Regressor with 300 trees, a learning rate of 0.05, and a maximum depth of 3. This model had an RMSE of 4.24 and could explain about 69% of what determines a driver's finishing position. In simpler terms, our model could predict a driver's finishing position within 1 spot of their actual position 30% of the time, and within 3 spots 64% of the time. This beat all our Random Forest models. We think the model worked well because we didn't make the trees too deep or the learning too aggressive, which helped it avoid memorizing the training data instead of learning real patterns."
   ]
  }
 ],
 "metadata": {
  "application/vnd.databricks.v1+notebook": {
   "computePreferences": null,
   "dashboards": [],
   "environmentMetadata": {
    "base_environment": "",
    "environment_version": "2"
   },
   "inputWidgetPreferences": null,
   "language": "python",
   "notebookMetadata": {
    "pythonIndentUnit": 4
   },
   "notebookName": "take-home-exercise-3",
   "widgets": {}
  },
  "language_info": {
   "name": "python"
  }
 },
 "nbformat": 4,
 "nbformat_minor": 0
}